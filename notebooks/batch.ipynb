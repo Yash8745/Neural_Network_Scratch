{
 "cells": [
  {
   "cell_type": "code",
   "execution_count": 1,
   "metadata": {},
   "outputs": [],
   "source": [
    "import numpy as np"
   ]
  },
  {
   "cell_type": "code",
   "execution_count": 3,
   "metadata": {},
   "outputs": [
    {
     "name": "stdout",
     "output_type": "stream",
     "text": [
      "[[ 4.8    1.21   2.385]\n",
      " [ 8.9   -1.81   0.2  ]\n",
      " [ 1.41   1.051  0.026]]\n"
     ]
    }
   ],
   "source": [
    "input = [[1,2,3, 2.5],\n",
    "         [2.0,5.0,-1.0, 2.0],\n",
    "            [-1.5,2.7,3.3, -0.8]]\n",
    "weights=[[0.2,0.8,-0.5,1.0],\n",
    "            [0.5,-0.91,0.26,-0.5],\n",
    "            [-0.26,-0.27,0.17,0.87]]\n",
    "\n",
    "biases=[2,3,0.5]\n",
    "\n",
    "layer1_outputs=np.dot(input, np.array(weights).T) + biases\n",
    "\n",
    "print(layer1_outputs)"
   ]
  },
  {
   "cell_type": "code",
   "execution_count": 5,
   "metadata": {},
   "outputs": [
    {
     "name": "stdout",
     "output_type": "stream",
     "text": [
      "[[ 2.7355   4.919   -0.66925]\n",
      " [ 2.232    9.1491  -1.2913 ]\n",
      " [ 3.1098   2.75535 -0.14595]]\n"
     ]
    }
   ],
   "source": [
    "weights2 =[[0.2,0.8,-0.5],\n",
    "            [0.5,-0.91,0.26],\n",
    "            [-0.26,-0.27,0.17]]\n",
    "\n",
    "biases2=[2,3,0.5]\n",
    "\n",
    "layer2_outputs=np.dot(layer1_outputs, np.array(weights2).T) + biases2\n",
    "\n",
    "print(layer2_outputs)\n"
   ]
  },
  {
   "cell_type": "code",
   "execution_count": null,
   "metadata": {},
   "outputs": [],
   "source": []
  }
 ],
 "metadata": {
  "kernelspec": {
   "display_name": "scratch",
   "language": "python",
   "name": "python3"
  },
  "language_info": {
   "codemirror_mode": {
    "name": "ipython",
    "version": 3
   },
   "file_extension": ".py",
   "mimetype": "text/x-python",
   "name": "python",
   "nbconvert_exporter": "python",
   "pygments_lexer": "ipython3",
   "version": "3.10.0"
  }
 },
 "nbformat": 4,
 "nbformat_minor": 2
}
